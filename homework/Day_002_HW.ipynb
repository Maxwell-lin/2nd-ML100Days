{
 "cells": [
  {
   "cell_type": "markdown",
   "metadata": {},
   "source": [
    "## 練習時間\n",
    "資料的操作有很多，接下來的馬拉松中我們會介紹常被使用到的操作，參加者不妨先自行想像一下，第一次看到資料，我們一般會想知道什麼訊息？\n",
    "\n",
    "#### Ex: 如何知道資料的 row 數以及 column 數、有什麼欄位、多少欄位、如何截取部分的資料等等\n",
    "\n",
    "有了對資料的好奇之後，我們又怎麼通過程式碼來達成我們的目的呢？\n",
    "\n",
    "#### 可參考該[基礎教材](https://bookdata.readthedocs.io/en/latest/base/01_pandas.html#DataFrame-%E5%85%A5%E9%97%A8)或自行 google"
   ]
  },
  {
   "cell_type": "code",
   "execution_count": 1,
   "metadata": {},
   "outputs": [],
   "source": [
    "import os\n",
    "import numpy as np\n",
    "import pandas as pd"
   ]
  },
  {
   "cell_type": "code",
   "execution_count": 2,
   "metadata": {},
   "outputs": [],
   "source": [
    "# 設定 data_path\n",
    "dir_data = './data/'"
   ]
  },
  {
   "cell_type": "code",
   "execution_count": 3,
   "metadata": {},
   "outputs": [
    {
     "name": "stdout",
     "output_type": "stream",
     "text": [
      "Path of read in data: ./data/application_train.csv\n"
     ]
    }
   ],
   "source": [
    "f_app = os.path.join(dir_data, 'application_train.csv')\n",
    "print('Path of read in data: %s' % (f_app))\n",
    "app_train = pd.read_csv(f_app)"
   ]
  },
  {
   "cell_type": "markdown",
   "metadata": {},
   "source": [
    "### 如果沒有想法，可以先嘗試找出剛剛例子中提到的問題的答案\n",
    "#### 資料的 row 數以及 column 數"
   ]
  },
  {
   "cell_type": "code",
   "execution_count": 4,
   "metadata": {},
   "outputs": [
    {
     "name": "stdout",
     "output_type": "stream",
     "text": [
      "RangeIndex(start=0, stop=307511, step=1)\n"
     ]
    }
   ],
   "source": [
    "print(app_train.index)"
   ]
  },
  {
   "cell_type": "markdown",
   "metadata": {},
   "source": [
    "#### 列出所有欄位"
   ]
  },
  {
   "cell_type": "code",
   "execution_count": 5,
   "metadata": {},
   "outputs": [
    {
     "name": "stdout",
     "output_type": "stream",
     "text": [
      "Index(['SK_ID_CURR', 'TARGET', 'NAME_CONTRACT_TYPE', 'CODE_GENDER',\n",
      "       'FLAG_OWN_CAR', 'FLAG_OWN_REALTY', 'CNT_CHILDREN', 'AMT_INCOME_TOTAL',\n",
      "       'AMT_CREDIT', 'AMT_ANNUITY',\n",
      "       ...\n",
      "       'FLAG_DOCUMENT_18', 'FLAG_DOCUMENT_19', 'FLAG_DOCUMENT_20',\n",
      "       'FLAG_DOCUMENT_21', 'AMT_REQ_CREDIT_BUREAU_HOUR',\n",
      "       'AMT_REQ_CREDIT_BUREAU_DAY', 'AMT_REQ_CREDIT_BUREAU_WEEK',\n",
      "       'AMT_REQ_CREDIT_BUREAU_MON', 'AMT_REQ_CREDIT_BUREAU_QRT',\n",
      "       'AMT_REQ_CREDIT_BUREAU_YEAR'],\n",
      "      dtype='object', length=122)\n"
     ]
    }
   ],
   "source": [
    "print(app_train.columns)"
   ]
  },
  {
   "cell_type": "markdown",
   "metadata": {},
   "source": [
    "#### 截取部分資料"
   ]
  },
  {
   "cell_type": "code",
   "execution_count": 9,
   "metadata": {},
   "outputs": [
    {
     "name": "stdout",
     "output_type": "stream",
     "text": [
      "        SK_ID_CURR  AMT_INCOME_TOTAL\n",
      "0           100002        202500.000\n",
      "1           100003        270000.000\n",
      "2           100004         67500.000\n",
      "3           100006        135000.000\n",
      "4           100007        121500.000\n",
      "5           100008         99000.000\n",
      "6           100009        171000.000\n",
      "7           100010        360000.000\n",
      "8           100011        112500.000\n",
      "9           100012        135000.000\n",
      "10          100014        112500.000\n",
      "11          100015         38419.155\n",
      "12          100016         67500.000\n",
      "13          100017        225000.000\n",
      "14          100018        189000.000\n",
      "15          100019        157500.000\n",
      "16          100020        108000.000\n",
      "17          100021         81000.000\n",
      "18          100022        112500.000\n",
      "19          100023         90000.000\n",
      "20          100024        135000.000\n",
      "21          100025        202500.000\n",
      "22          100026        450000.000\n",
      "23          100027         83250.000\n",
      "24          100029        135000.000\n",
      "25          100030         90000.000\n",
      "26          100031        112500.000\n",
      "27          100032        112500.000\n",
      "28          100033        270000.000\n",
      "29          100034         90000.000\n",
      "...            ...               ...\n",
      "307481      456225        225000.000\n",
      "307482      456226        225000.000\n",
      "307483      456227         99000.000\n",
      "307484      456228        540000.000\n",
      "307485      456229        270000.000\n",
      "307486      456230        292500.000\n",
      "307487      456231        117000.000\n",
      "307488      456232        157500.000\n",
      "307489      456233        225000.000\n",
      "307490      456234         81000.000\n",
      "307491      456235         90000.000\n",
      "307492      456236        585000.000\n",
      "307493      456237        135000.000\n",
      "307494      456238        270000.000\n",
      "307495      456239        180000.000\n",
      "307496      456240        360000.000\n",
      "307497      456241        180000.000\n",
      "307498      456242        198000.000\n",
      "307499      456243         81000.000\n",
      "307500      456244        261000.000\n",
      "307501      456245         81000.000\n",
      "307502      456246         94500.000\n",
      "307503      456247        112500.000\n",
      "307504      456248        153000.000\n",
      "307505      456249        112500.000\n",
      "307506      456251        157500.000\n",
      "307507      456252         72000.000\n",
      "307508      456253        153000.000\n",
      "307509      456254        171000.000\n",
      "307510      456255        157500.000\n",
      "\n",
      "[307511 rows x 2 columns]\n"
     ]
    }
   ],
   "source": [
    "print(app_train[['SK_ID_CURR','AMT_INCOME_TOTAL']])"
   ]
  },
  {
   "cell_type": "markdown",
   "metadata": {},
   "source": [
    "#### 還有各種數之不盡的資料操作，重點還是取決於實務中遇到的狀況和你想問的問題，在馬拉松中我們也會陸續提到更多例子"
   ]
  },
  {
   "cell_type": "code",
   "execution_count": null,
   "metadata": {},
   "outputs": [],
   "source": []
  }
 ],
 "metadata": {
  "kernelspec": {
   "display_name": "Python 3",
   "language": "python",
   "name": "python3"
  },
  "language_info": {
   "codemirror_mode": {
    "name": "ipython",
    "version": 3
   },
   "file_extension": ".py",
   "mimetype": "text/x-python",
   "name": "python",
   "nbconvert_exporter": "python",
   "pygments_lexer": "ipython3",
   "version": "3.7.3"
  }
 },
 "nbformat": 4,
 "nbformat_minor": 2
}
